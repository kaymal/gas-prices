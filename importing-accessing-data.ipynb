{
 "cells": [
  {
   "cell_type": "markdown",
   "metadata": {},
   "source": [
    "# Gas Station Price Analysis\n",
    "\n",
    "In this Project we'll investigate the gas and diesel prices in Germany throughout the states, cities and gas stations. The dataset is provided by [Tankerkönig](https://tankerkoenig.de) under _Creative-Commons-Lizenz (CC BY 4.0)_."
   ]
  },
  {
   "cell_type": "markdown",
   "metadata": {},
   "source": [
    "## Importing and Accessing Data\n",
    "\n",
    "The data provided by _Tankerkönig_ is a PostgreSQL Dump File. We need to first download a PostgreSQL Distribution.\n",
    "\n",
    "For [MacOS](https://www.postgresql.org/download/macosx/), we can use [Postgres.app](http://postgresapp.com/), which is a simple, native macOS app that runs in the menubar without the need of an installer. There are several GUI client apps including [pgAdmin 4](https://www.pgadmin.org/) and [Postico](https://eggerapps.at/postico/).\n",
    "\n",
    "For [Windows](https://www.postgresql.org/download/windows/), one can use the [Installer](https://www.enterprisedb.com/downloads/postgres-postgresql-downloads) which includes the PostgreSQL server, pgAdmin; a graphical tool for managing and developing your databases, and StackBuilder; a package manager that can be used to download and install additional PostgreSQL tools and drivers.\n",
    "\n",
    "After installing the PostgreSQL, starting the server and and downloading the dump file, we need to restore the data from the dump. The following code can be used to restore the file. \n",
    "\n",
    "```\n",
    "$ psql tanker < history.dump\n",
    "```\n",
    "\n",
    "Note that `tanker` is the name of our database."
   ]
  },
  {
   "cell_type": "markdown",
   "metadata": {},
   "source": [
    "### Data Description\n",
    "\n",
    "There are two tables in the database:\n",
    "1. `gas_station`: Information regarding gas stations, and their locations.\n",
    "2. `gas_station_information_history`: Price information for the fuels E5, E10, and Diesel.\n",
    "\n",
    "Detailed data description can be found [here](https://creativecommons.tankerkoenig.de)."
   ]
  },
  {
   "cell_type": "markdown",
   "metadata": {},
   "source": [
    "### Connect to a PostgreSQL Database"
   ]
  },
  {
   "cell_type": "code",
   "execution_count": 1,
   "metadata": {},
   "outputs": [],
   "source": [
    "# Import necessary modules and objects\n",
    "from sqlalchemy import create_engine  # Connecting to database\n",
    "from sqlalchemy import Table # Reflecting & viewing data\n",
    "from sqlalchemy import MetaData # Reflecting & viewing data\n",
    "from sqlalchemy import select # Selecting data\n",
    "\n",
    "import pandas as pd # Feeding ResultProxy into pandas DataFrame."
   ]
  },
  {
   "cell_type": "code",
   "execution_count": 18,
   "metadata": {},
   "outputs": [],
   "source": [
    "# Load credentials\n",
    "%run data/config\n",
    "\n",
    "#Create an engine that connects to the census database\n",
    "engine = create_engine('postgresql+psycopg2://' + \n",
    "                       username + ':' + password + '@' +\n",
    "                       host + ':' + port + '/' + database)\n",
    "\n",
    "# Connect\n",
    "connection = engine.connect()"
   ]
  },
  {
   "cell_type": "code",
   "execution_count": 19,
   "metadata": {},
   "outputs": [
    {
     "data": {
      "text/plain": [
       "['gas_station', 'gas_station_information_history']"
      ]
     },
     "execution_count": 19,
     "metadata": {},
     "output_type": "execute_result"
    }
   ],
   "source": [
    "# Table names\n",
    "engine.table_names()"
   ]
  },
  {
   "cell_type": "code",
   "execution_count": 20,
   "metadata": {},
   "outputs": [],
   "source": [
    "# Initialize metadata\n",
    "metadata = MetaData()\n",
    "\n",
    "# Reflect tables from the engine\n",
    "gas_station = Table('gas_station', metadata, autoload=True, autoload_with=engine)\n",
    "gas_price = Table('gas_station_information_history', metadata, autoload=True, autoload_with=engine)"
   ]
  },
  {
   "cell_type": "code",
   "execution_count": 21,
   "metadata": {},
   "outputs": [
    {
     "data": {
      "text/plain": [
       "['id',\n",
       " 'version',\n",
       " 'version_time',\n",
       " 'name',\n",
       " 'brand',\n",
       " 'street',\n",
       " 'house_number',\n",
       " 'post_code',\n",
       " 'place',\n",
       " 'public_holiday_identifier',\n",
       " 'lat',\n",
       " 'lng',\n",
       " 'price_in_import',\n",
       " 'price_changed',\n",
       " 'open_ts',\n",
       " 'ot_json',\n",
       " 'station_in_import',\n",
       " 'first_active']"
      ]
     },
     "execution_count": 21,
     "metadata": {},
     "output_type": "execute_result"
    }
   ],
   "source": [
    "gas_station.columns.keys()"
   ]
  },
  {
   "cell_type": "code",
   "execution_count": 22,
   "metadata": {},
   "outputs": [
    {
     "data": {
      "text/plain": [
       "['id', 'stid', 'e5', 'e10', 'diesel', 'date', 'changed']"
      ]
     },
     "execution_count": 22,
     "metadata": {},
     "output_type": "execute_result"
    }
   ],
   "source": [
    "gas_price.columns.keys()"
   ]
  },
  {
   "cell_type": "markdown",
   "metadata": {},
   "source": [
    "### Selecting Data"
   ]
  },
  {
   "cell_type": "code",
   "execution_count": 25,
   "metadata": {},
   "outputs": [
    {
     "data": {
      "text/plain": [
       "[(154134533, UUID('dce91c1f-80ea-4a60-be4c-c94b46140a07'), 1339, 1319, 1249, datetime.datetime(2019, 1, 1, 19, 8, 6, tzinfo=psycopg2.tz.FixedOffsetTimezone(offset=60, name=None)), 5)]"
      ]
     },
     "execution_count": 25,
     "metadata": {},
     "output_type": "execute_result"
    }
   ],
   "source": [
    "# Build select statement\n",
    "stmt = '''\n",
    "SELECT * \n",
    "FROM gas_station_information_history\n",
    "LIMIT 5\n",
    "'''\n",
    "\n",
    "# Execute the statement (Result Proxy)\n",
    "results_proxy = connection.execute(stmt)\n",
    "\n",
    "# Fetch the results (Result Set)\n",
    "results = results_proxy.fetchall()\n",
    "\n",
    "# Print the first five results\n",
    "results[:1]"
   ]
  },
  {
   "cell_type": "code",
   "execution_count": 26,
   "metadata": {},
   "outputs": [
    {
     "data": {
      "text/html": [
       "<div>\n",
       "<style scoped>\n",
       "    .dataframe tbody tr th:only-of-type {\n",
       "        vertical-align: middle;\n",
       "    }\n",
       "\n",
       "    .dataframe tbody tr th {\n",
       "        vertical-align: top;\n",
       "    }\n",
       "\n",
       "    .dataframe thead th {\n",
       "        text-align: right;\n",
       "    }\n",
       "</style>\n",
       "<table border=\"1\" class=\"dataframe\">\n",
       "  <thead>\n",
       "    <tr style=\"text-align: right;\">\n",
       "      <th></th>\n",
       "      <th>id</th>\n",
       "      <th>stid</th>\n",
       "      <th>e5</th>\n",
       "      <th>e10</th>\n",
       "      <th>diesel</th>\n",
       "      <th>date</th>\n",
       "      <th>changed</th>\n",
       "    </tr>\n",
       "  </thead>\n",
       "  <tbody>\n",
       "    <tr>\n",
       "      <th>0</th>\n",
       "      <td>154134533</td>\n",
       "      <td>dce91c1f-80ea-4a60-be4c-c94b46140a07</td>\n",
       "      <td>1339</td>\n",
       "      <td>1319</td>\n",
       "      <td>1249</td>\n",
       "      <td>2019-01-01 19:08:06+01:00</td>\n",
       "      <td>5</td>\n",
       "    </tr>\n",
       "    <tr>\n",
       "      <th>1</th>\n",
       "      <td>154134534</td>\n",
       "      <td>482ed2fa-8f25-48d7-8319-62d78bb80dad</td>\n",
       "      <td>1369</td>\n",
       "      <td>1349</td>\n",
       "      <td>1209</td>\n",
       "      <td>2019-01-01 19:08:06+01:00</td>\n",
       "      <td>1</td>\n",
       "    </tr>\n",
       "    <tr>\n",
       "      <th>2</th>\n",
       "      <td>154134535</td>\n",
       "      <td>f96b0d2b-c33b-4d8e-a08b-6a9e2f3c657a</td>\n",
       "      <td>1419</td>\n",
       "      <td>1399</td>\n",
       "      <td>1339</td>\n",
       "      <td>2019-01-01 19:08:06+01:00</td>\n",
       "      <td>21</td>\n",
       "    </tr>\n",
       "    <tr>\n",
       "      <th>3</th>\n",
       "      <td>154134536</td>\n",
       "      <td>298b75ef-7296-4ebe-ab06-536f4782032b</td>\n",
       "      <td>1309</td>\n",
       "      <td>1289</td>\n",
       "      <td>1149</td>\n",
       "      <td>2019-01-01 19:08:06+01:00</td>\n",
       "      <td>21</td>\n",
       "    </tr>\n",
       "    <tr>\n",
       "      <th>4</th>\n",
       "      <td>154134537</td>\n",
       "      <td>6a8c91b0-7b3f-4c99-a2c9-787aa0bcd829</td>\n",
       "      <td>1339</td>\n",
       "      <td>0</td>\n",
       "      <td>1189</td>\n",
       "      <td>2019-01-01 19:08:06+01:00</td>\n",
       "      <td>4</td>\n",
       "    </tr>\n",
       "  </tbody>\n",
       "</table>\n",
       "</div>"
      ],
      "text/plain": [
       "          id                                  stid    e5   e10  diesel  \\\n",
       "0  154134533  dce91c1f-80ea-4a60-be4c-c94b46140a07  1339  1319    1249   \n",
       "1  154134534  482ed2fa-8f25-48d7-8319-62d78bb80dad  1369  1349    1209   \n",
       "2  154134535  f96b0d2b-c33b-4d8e-a08b-6a9e2f3c657a  1419  1399    1339   \n",
       "3  154134536  298b75ef-7296-4ebe-ab06-536f4782032b  1309  1289    1149   \n",
       "4  154134537  6a8c91b0-7b3f-4c99-a2c9-787aa0bcd829  1339     0    1189   \n",
       "\n",
       "                       date  changed  \n",
       "0 2019-01-01 19:08:06+01:00        5  \n",
       "1 2019-01-01 19:08:06+01:00        1  \n",
       "2 2019-01-01 19:08:06+01:00       21  \n",
       "3 2019-01-01 19:08:06+01:00       21  \n",
       "4 2019-01-01 19:08:06+01:00        4  "
      ]
     },
     "execution_count": 26,
     "metadata": {},
     "output_type": "execute_result"
    }
   ],
   "source": [
    "# Create a DataFrame from the results\n",
    "df = pd.DataFrame(results)\n",
    "\n",
    "# Set column names\n",
    "df.columns = results[0].keys()\n",
    "\n",
    "# Print the head of the Dataframe\n",
    "df.head()"
   ]
  },
  {
   "cell_type": "code",
   "execution_count": 29,
   "metadata": {},
   "outputs": [
    {
     "data": {
      "text/html": [
       "<div>\n",
       "<style scoped>\n",
       "    .dataframe tbody tr th:only-of-type {\n",
       "        vertical-align: middle;\n",
       "    }\n",
       "\n",
       "    .dataframe tbody tr th {\n",
       "        vertical-align: top;\n",
       "    }\n",
       "\n",
       "    .dataframe thead th {\n",
       "        text-align: right;\n",
       "    }\n",
       "</style>\n",
       "<table border=\"1\" class=\"dataframe\">\n",
       "  <thead>\n",
       "    <tr style=\"text-align: right;\">\n",
       "      <th></th>\n",
       "      <th>id</th>\n",
       "      <th>version</th>\n",
       "      <th>version_time</th>\n",
       "      <th>name</th>\n",
       "      <th>brand</th>\n",
       "      <th>street</th>\n",
       "      <th>house_number</th>\n",
       "      <th>post_code</th>\n",
       "      <th>place</th>\n",
       "      <th>public_holiday_identifier</th>\n",
       "      <th>lat</th>\n",
       "      <th>lng</th>\n",
       "      <th>price_in_import</th>\n",
       "      <th>price_changed</th>\n",
       "      <th>open_ts</th>\n",
       "      <th>ot_json</th>\n",
       "      <th>station_in_import</th>\n",
       "      <th>first_active</th>\n",
       "    </tr>\n",
       "  </thead>\n",
       "  <tbody>\n",
       "    <tr>\n",
       "      <th>0</th>\n",
       "      <td>00060162-0001-4444-8888-acdc00000001</td>\n",
       "      <td>2</td>\n",
       "      <td>2019-06-29 00:00:18.081</td>\n",
       "      <td>Tankstelle MGS</td>\n",
       "      <td></td>\n",
       "      <td>Justus-Liebig-Str.</td>\n",
       "      <td>96</td>\n",
       "      <td>95447</td>\n",
       "      <td>Bayreuth</td>\n",
       "      <td>None</td>\n",
       "      <td>49.938751</td>\n",
       "      <td>11.559593</td>\n",
       "      <td>2019-06-30 17:10:06+02:00</td>\n",
       "      <td>2019-06-30 17:04:06+02:00</td>\n",
       "      <td>1</td>\n",
       "      <td>{}</td>\n",
       "      <td>2019-06-30 00:00:35+02:00</td>\n",
       "      <td>2017-08-25 23:30:06+02:00</td>\n",
       "    </tr>\n",
       "    <tr>\n",
       "      <th>1</th>\n",
       "      <td>00060251-0012-4444-8888-acdcffffffff</td>\n",
       "      <td>0</td>\n",
       "      <td>2019-06-29 00:00:09.807</td>\n",
       "      <td>Raiffeisen Bezug+Absatz eG</td>\n",
       "      <td>AVIA</td>\n",
       "      <td>Kempter Str.</td>\n",
       "      <td>11</td>\n",
       "      <td>87487</td>\n",
       "      <td>Wiggensbach</td>\n",
       "      <td>None</td>\n",
       "      <td>47.747704</td>\n",
       "      <td>10.239517</td>\n",
       "      <td>2019-06-30 17:10:06+02:00</td>\n",
       "      <td>2019-06-19 16:03:06+02:00</td>\n",
       "      <td>1</td>\n",
       "      <td>{}</td>\n",
       "      <td>2019-06-30 00:00:35+02:00</td>\n",
       "      <td>2014-03-18 16:45:31+01:00</td>\n",
       "    </tr>\n",
       "    <tr>\n",
       "      <th>2</th>\n",
       "      <td>00099999-8026-4444-8888-acdc00008026</td>\n",
       "      <td>0</td>\n",
       "      <td>2019-06-29 00:00:15.952</td>\n",
       "      <td>ch-tank</td>\n",
       "      <td>ch-tank</td>\n",
       "      <td>Freckenhorster Straße</td>\n",
       "      <td>39</td>\n",
       "      <td>48231</td>\n",
       "      <td>Warendorf</td>\n",
       "      <td>None</td>\n",
       "      <td>51.949173</td>\n",
       "      <td>7.987864</td>\n",
       "      <td>2019-06-30 17:10:06+02:00</td>\n",
       "      <td>2019-06-30 16:52:14+02:00</td>\n",
       "      <td>1</td>\n",
       "      <td>{}</td>\n",
       "      <td>2019-06-30 00:00:35+02:00</td>\n",
       "      <td>2014-05-27 00:00:01+02:00</td>\n",
       "    </tr>\n",
       "    <tr>\n",
       "      <th>3</th>\n",
       "      <td>005056ba-7cb6-1ed2-bceb-5df56c7ecd1b</td>\n",
       "      <td>1896</td>\n",
       "      <td>2019-06-27 22:55:10.785</td>\n",
       "      <td>famila Tankstelle</td>\n",
       "      <td>FAMILA</td>\n",
       "      <td>Rettiner Weg</td>\n",
       "      <td>77</td>\n",
       "      <td>23730</td>\n",
       "      <td>Neustadt / Holstein</td>\n",
       "      <td>None</td>\n",
       "      <td>54.103570</td>\n",
       "      <td>10.831820</td>\n",
       "      <td>2019-06-30 17:10:06+02:00</td>\n",
       "      <td>2019-06-30 16:25:06+02:00</td>\n",
       "      <td>-1561971600</td>\n",
       "      <td>{\"openingTimes\":[{\"applicable_days\":63,\"period...</td>\n",
       "      <td>2019-06-30 00:00:35+02:00</td>\n",
       "      <td>2014-03-18 16:45:31+01:00</td>\n",
       "    </tr>\n",
       "    <tr>\n",
       "      <th>4</th>\n",
       "      <td>005056ba-7cb6-1ed2-bceb-7ac58dfa4d27</td>\n",
       "      <td>1896</td>\n",
       "      <td>2019-06-27 22:55:11.652</td>\n",
       "      <td>star Tankstelle</td>\n",
       "      <td>STAR</td>\n",
       "      <td>Celler Straße</td>\n",
       "      <td>55</td>\n",
       "      <td>29303</td>\n",
       "      <td>Bergen</td>\n",
       "      <td>None</td>\n",
       "      <td>52.800090</td>\n",
       "      <td>9.969620</td>\n",
       "      <td>2019-06-30 17:10:06+02:00</td>\n",
       "      <td>2019-06-30 16:59:06+02:00</td>\n",
       "      <td>1</td>\n",
       "      <td>{}</td>\n",
       "      <td>2019-06-30 00:00:35+02:00</td>\n",
       "      <td>2014-03-18 16:45:31+01:00</td>\n",
       "    </tr>\n",
       "  </tbody>\n",
       "</table>\n",
       "</div>"
      ],
      "text/plain": [
       "                                     id version            version_time  \\\n",
       "0  00060162-0001-4444-8888-acdc00000001       2 2019-06-29 00:00:18.081   \n",
       "1  00060251-0012-4444-8888-acdcffffffff       0 2019-06-29 00:00:09.807   \n",
       "2  00099999-8026-4444-8888-acdc00008026       0 2019-06-29 00:00:15.952   \n",
       "3  005056ba-7cb6-1ed2-bceb-5df56c7ecd1b    1896 2019-06-27 22:55:10.785   \n",
       "4  005056ba-7cb6-1ed2-bceb-7ac58dfa4d27    1896 2019-06-27 22:55:11.652   \n",
       "\n",
       "                         name    brand                 street house_number  \\\n",
       "0              Tankstelle MGS             Justus-Liebig-Str.            96   \n",
       "1  Raiffeisen Bezug+Absatz eG     AVIA          Kempter Str.            11   \n",
       "2                     ch-tank  ch-tank  Freckenhorster Straße           39   \n",
       "3           famila Tankstelle   FAMILA           Rettiner Weg           77   \n",
       "4             star Tankstelle     STAR          Celler Straße           55   \n",
       "\n",
       "  post_code                place public_holiday_identifier        lat  \\\n",
       "0     95447             Bayreuth                      None  49.938751   \n",
       "1     87487          Wiggensbach                      None  47.747704   \n",
       "2     48231            Warendorf                      None  51.949173   \n",
       "3     23730  Neustadt / Holstein                      None  54.103570   \n",
       "4     29303               Bergen                      None  52.800090   \n",
       "\n",
       "         lng           price_in_import             price_changed     open_ts  \\\n",
       "0  11.559593 2019-06-30 17:10:06+02:00 2019-06-30 17:04:06+02:00           1   \n",
       "1  10.239517 2019-06-30 17:10:06+02:00 2019-06-19 16:03:06+02:00           1   \n",
       "2   7.987864 2019-06-30 17:10:06+02:00 2019-06-30 16:52:14+02:00           1   \n",
       "3  10.831820 2019-06-30 17:10:06+02:00 2019-06-30 16:25:06+02:00 -1561971600   \n",
       "4   9.969620 2019-06-30 17:10:06+02:00 2019-06-30 16:59:06+02:00           1   \n",
       "\n",
       "                                             ot_json  \\\n",
       "0                                                 {}   \n",
       "1                                                 {}   \n",
       "2                                                 {}   \n",
       "3  {\"openingTimes\":[{\"applicable_days\":63,\"period...   \n",
       "4                                                 {}   \n",
       "\n",
       "          station_in_import               first_active  \n",
       "0 2019-06-30 00:00:35+02:00  2017-08-25 23:30:06+02:00  \n",
       "1 2019-06-30 00:00:35+02:00  2014-03-18 16:45:31+01:00  \n",
       "2 2019-06-30 00:00:35+02:00  2014-05-27 00:00:01+02:00  \n",
       "3 2019-06-30 00:00:35+02:00  2014-03-18 16:45:31+01:00  \n",
       "4 2019-06-30 00:00:35+02:00  2014-03-18 16:45:31+01:00  "
      ]
     },
     "execution_count": 29,
     "metadata": {},
     "output_type": "execute_result"
    }
   ],
   "source": [
    "# Build select statement\n",
    "stmt = '''\n",
    "SELECT * \n",
    "FROM gas_station\n",
    "LIMIT 5\n",
    "'''\n",
    "\n",
    "# Execute the statement (Result Proxy)\n",
    "results_proxy = connection.execute(stmt)\n",
    "\n",
    "# Fetch the results (Result Set)\n",
    "results = results_proxy.fetchall()\n",
    "\n",
    "# Create a DataFrame from the results\n",
    "df = pd.DataFrame(results)\n",
    "\n",
    "# Set column names\n",
    "df.columns = results[0].keys()\n",
    "\n",
    "# Print the head of the Dataframe\n",
    "df.head()"
   ]
  },
  {
   "cell_type": "code",
   "execution_count": 30,
   "metadata": {
    "collapsed": true,
    "jupyter": {
     "outputs_hidden": true
    }
   },
   "outputs": [
    {
     "ename": "KeyboardInterrupt",
     "evalue": "",
     "output_type": "error",
     "traceback": [
      "\u001b[0;31m---------------------------------------------------------------------------\u001b[0m",
      "\u001b[0;31mKeyboardInterrupt\u001b[0m                         Traceback (most recent call last)",
      "\u001b[0;32m<ipython-input-30-28ec7d72e882>\u001b[0m in \u001b[0;36m<module>\u001b[0;34m\u001b[0m\n\u001b[1;32m      9\u001b[0m \u001b[0;34m\u001b[0m\u001b[0m\n\u001b[1;32m     10\u001b[0m \u001b[0;31m# Execute the statement (Result Proxy)\u001b[0m\u001b[0;34m\u001b[0m\u001b[0;34m\u001b[0m\u001b[0;34m\u001b[0m\u001b[0m\n\u001b[0;32m---> 11\u001b[0;31m \u001b[0mresults_proxy\u001b[0m \u001b[0;34m=\u001b[0m \u001b[0mconnection\u001b[0m\u001b[0;34m.\u001b[0m\u001b[0mexecute\u001b[0m\u001b[0;34m(\u001b[0m\u001b[0mstmt\u001b[0m\u001b[0;34m)\u001b[0m\u001b[0;34m\u001b[0m\u001b[0;34m\u001b[0m\u001b[0m\n\u001b[0m\u001b[1;32m     12\u001b[0m \u001b[0;34m\u001b[0m\u001b[0m\n\u001b[1;32m     13\u001b[0m \u001b[0;31m# Fetch the results (Result Set)\u001b[0m\u001b[0;34m\u001b[0m\u001b[0;34m\u001b[0m\u001b[0;34m\u001b[0m\u001b[0m\n",
      "\u001b[0;32m~/anaconda3/lib/python3.7/site-packages/sqlalchemy/engine/base.py\u001b[0m in \u001b[0;36mexecute\u001b[0;34m(self, object_, *multiparams, **params)\u001b[0m\n\u001b[1;32m    980\u001b[0m         \"\"\"\n\u001b[1;32m    981\u001b[0m         \u001b[0;32mif\u001b[0m \u001b[0misinstance\u001b[0m\u001b[0;34m(\u001b[0m\u001b[0mobject_\u001b[0m\u001b[0;34m,\u001b[0m \u001b[0mutil\u001b[0m\u001b[0;34m.\u001b[0m\u001b[0mstring_types\u001b[0m\u001b[0;34m[\u001b[0m\u001b[0;36m0\u001b[0m\u001b[0;34m]\u001b[0m\u001b[0;34m)\u001b[0m\u001b[0;34m:\u001b[0m\u001b[0;34m\u001b[0m\u001b[0;34m\u001b[0m\u001b[0m\n\u001b[0;32m--> 982\u001b[0;31m             \u001b[0;32mreturn\u001b[0m \u001b[0mself\u001b[0m\u001b[0;34m.\u001b[0m\u001b[0m_execute_text\u001b[0m\u001b[0;34m(\u001b[0m\u001b[0mobject_\u001b[0m\u001b[0;34m,\u001b[0m \u001b[0mmultiparams\u001b[0m\u001b[0;34m,\u001b[0m \u001b[0mparams\u001b[0m\u001b[0;34m)\u001b[0m\u001b[0;34m\u001b[0m\u001b[0;34m\u001b[0m\u001b[0m\n\u001b[0m\u001b[1;32m    983\u001b[0m         \u001b[0;32mtry\u001b[0m\u001b[0;34m:\u001b[0m\u001b[0;34m\u001b[0m\u001b[0;34m\u001b[0m\u001b[0m\n\u001b[1;32m    984\u001b[0m             \u001b[0mmeth\u001b[0m \u001b[0;34m=\u001b[0m \u001b[0mobject_\u001b[0m\u001b[0;34m.\u001b[0m\u001b[0m_execute_on_connection\u001b[0m\u001b[0;34m\u001b[0m\u001b[0;34m\u001b[0m\u001b[0m\n",
      "\u001b[0;32m~/anaconda3/lib/python3.7/site-packages/sqlalchemy/engine/base.py\u001b[0m in \u001b[0;36m_execute_text\u001b[0;34m(self, statement, multiparams, params)\u001b[0m\n\u001b[1;32m   1153\u001b[0m             \u001b[0mparameters\u001b[0m\u001b[0;34m,\u001b[0m\u001b[0;34m\u001b[0m\u001b[0;34m\u001b[0m\u001b[0m\n\u001b[1;32m   1154\u001b[0m             \u001b[0mstatement\u001b[0m\u001b[0;34m,\u001b[0m\u001b[0;34m\u001b[0m\u001b[0;34m\u001b[0m\u001b[0m\n\u001b[0;32m-> 1155\u001b[0;31m             \u001b[0mparameters\u001b[0m\u001b[0;34m,\u001b[0m\u001b[0;34m\u001b[0m\u001b[0;34m\u001b[0m\u001b[0m\n\u001b[0m\u001b[1;32m   1156\u001b[0m         )\n\u001b[1;32m   1157\u001b[0m         \u001b[0;32mif\u001b[0m \u001b[0mself\u001b[0m\u001b[0;34m.\u001b[0m\u001b[0m_has_events\u001b[0m \u001b[0;32mor\u001b[0m \u001b[0mself\u001b[0m\u001b[0;34m.\u001b[0m\u001b[0mengine\u001b[0m\u001b[0;34m.\u001b[0m\u001b[0m_has_events\u001b[0m\u001b[0;34m:\u001b[0m\u001b[0;34m\u001b[0m\u001b[0;34m\u001b[0m\u001b[0m\n",
      "\u001b[0;32m~/anaconda3/lib/python3.7/site-packages/sqlalchemy/engine/base.py\u001b[0m in \u001b[0;36m_execute_context\u001b[0;34m(self, dialect, constructor, statement, parameters, *args)\u001b[0m\n\u001b[1;32m   1246\u001b[0m         \u001b[0;32mexcept\u001b[0m \u001b[0mBaseException\u001b[0m \u001b[0;32mas\u001b[0m \u001b[0me\u001b[0m\u001b[0;34m:\u001b[0m\u001b[0;34m\u001b[0m\u001b[0;34m\u001b[0m\u001b[0m\n\u001b[1;32m   1247\u001b[0m             self._handle_dbapi_exception(\n\u001b[0;32m-> 1248\u001b[0;31m                 \u001b[0me\u001b[0m\u001b[0;34m,\u001b[0m \u001b[0mstatement\u001b[0m\u001b[0;34m,\u001b[0m \u001b[0mparameters\u001b[0m\u001b[0;34m,\u001b[0m \u001b[0mcursor\u001b[0m\u001b[0;34m,\u001b[0m \u001b[0mcontext\u001b[0m\u001b[0;34m\u001b[0m\u001b[0;34m\u001b[0m\u001b[0m\n\u001b[0m\u001b[1;32m   1249\u001b[0m             )\n\u001b[1;32m   1250\u001b[0m \u001b[0;34m\u001b[0m\u001b[0m\n",
      "\u001b[0;32m~/anaconda3/lib/python3.7/site-packages/sqlalchemy/engine/base.py\u001b[0m in \u001b[0;36m_handle_dbapi_exception\u001b[0;34m(self, e, statement, parameters, cursor, context)\u001b[0m\n\u001b[1;32m   1466\u001b[0m                 \u001b[0mutil\u001b[0m\u001b[0;34m.\u001b[0m\u001b[0mraise_from_cause\u001b[0m\u001b[0;34m(\u001b[0m\u001b[0msqlalchemy_exception\u001b[0m\u001b[0;34m,\u001b[0m \u001b[0mexc_info\u001b[0m\u001b[0;34m)\u001b[0m\u001b[0;34m\u001b[0m\u001b[0;34m\u001b[0m\u001b[0m\n\u001b[1;32m   1467\u001b[0m             \u001b[0;32melse\u001b[0m\u001b[0;34m:\u001b[0m\u001b[0;34m\u001b[0m\u001b[0;34m\u001b[0m\u001b[0m\n\u001b[0;32m-> 1468\u001b[0;31m                 \u001b[0mutil\u001b[0m\u001b[0;34m.\u001b[0m\u001b[0mreraise\u001b[0m\u001b[0;34m(\u001b[0m\u001b[0;34m*\u001b[0m\u001b[0mexc_info\u001b[0m\u001b[0;34m)\u001b[0m\u001b[0;34m\u001b[0m\u001b[0;34m\u001b[0m\u001b[0m\n\u001b[0m\u001b[1;32m   1469\u001b[0m \u001b[0;34m\u001b[0m\u001b[0m\n\u001b[1;32m   1470\u001b[0m         \u001b[0;32mfinally\u001b[0m\u001b[0;34m:\u001b[0m\u001b[0;34m\u001b[0m\u001b[0;34m\u001b[0m\u001b[0m\n",
      "\u001b[0;32m~/anaconda3/lib/python3.7/site-packages/sqlalchemy/util/compat.py\u001b[0m in \u001b[0;36mreraise\u001b[0;34m(tp, value, tb, cause)\u001b[0m\n\u001b[1;32m    152\u001b[0m         \u001b[0;32mif\u001b[0m \u001b[0mvalue\u001b[0m\u001b[0;34m.\u001b[0m\u001b[0m__traceback__\u001b[0m \u001b[0;32mis\u001b[0m \u001b[0;32mnot\u001b[0m \u001b[0mtb\u001b[0m\u001b[0;34m:\u001b[0m\u001b[0;34m\u001b[0m\u001b[0;34m\u001b[0m\u001b[0m\n\u001b[1;32m    153\u001b[0m             \u001b[0;32mraise\u001b[0m \u001b[0mvalue\u001b[0m\u001b[0;34m.\u001b[0m\u001b[0mwith_traceback\u001b[0m\u001b[0;34m(\u001b[0m\u001b[0mtb\u001b[0m\u001b[0;34m)\u001b[0m\u001b[0;34m\u001b[0m\u001b[0;34m\u001b[0m\u001b[0m\n\u001b[0;32m--> 154\u001b[0;31m         \u001b[0;32mraise\u001b[0m \u001b[0mvalue\u001b[0m\u001b[0;34m\u001b[0m\u001b[0;34m\u001b[0m\u001b[0m\n\u001b[0m\u001b[1;32m    155\u001b[0m \u001b[0;34m\u001b[0m\u001b[0m\n\u001b[1;32m    156\u001b[0m     \u001b[0;32mdef\u001b[0m \u001b[0mu\u001b[0m\u001b[0;34m(\u001b[0m\u001b[0ms\u001b[0m\u001b[0;34m)\u001b[0m\u001b[0;34m:\u001b[0m\u001b[0;34m\u001b[0m\u001b[0;34m\u001b[0m\u001b[0m\n",
      "\u001b[0;32m~/anaconda3/lib/python3.7/site-packages/sqlalchemy/engine/base.py\u001b[0m in \u001b[0;36m_execute_context\u001b[0;34m(self, dialect, constructor, statement, parameters, *args)\u001b[0m\n\u001b[1;32m   1242\u001b[0m                 \u001b[0;32mif\u001b[0m \u001b[0;32mnot\u001b[0m \u001b[0mevt_handled\u001b[0m\u001b[0;34m:\u001b[0m\u001b[0;34m\u001b[0m\u001b[0;34m\u001b[0m\u001b[0m\n\u001b[1;32m   1243\u001b[0m                     self.dialect.do_execute(\n\u001b[0;32m-> 1244\u001b[0;31m                         \u001b[0mcursor\u001b[0m\u001b[0;34m,\u001b[0m \u001b[0mstatement\u001b[0m\u001b[0;34m,\u001b[0m \u001b[0mparameters\u001b[0m\u001b[0;34m,\u001b[0m \u001b[0mcontext\u001b[0m\u001b[0;34m\u001b[0m\u001b[0;34m\u001b[0m\u001b[0m\n\u001b[0m\u001b[1;32m   1245\u001b[0m                     )\n\u001b[1;32m   1246\u001b[0m         \u001b[0;32mexcept\u001b[0m \u001b[0mBaseException\u001b[0m \u001b[0;32mas\u001b[0m \u001b[0me\u001b[0m\u001b[0;34m:\u001b[0m\u001b[0;34m\u001b[0m\u001b[0;34m\u001b[0m\u001b[0m\n",
      "\u001b[0;32m~/anaconda3/lib/python3.7/site-packages/sqlalchemy/engine/default.py\u001b[0m in \u001b[0;36mdo_execute\u001b[0;34m(self, cursor, statement, parameters, context)\u001b[0m\n\u001b[1;32m    548\u001b[0m \u001b[0;34m\u001b[0m\u001b[0m\n\u001b[1;32m    549\u001b[0m     \u001b[0;32mdef\u001b[0m \u001b[0mdo_execute\u001b[0m\u001b[0;34m(\u001b[0m\u001b[0mself\u001b[0m\u001b[0;34m,\u001b[0m \u001b[0mcursor\u001b[0m\u001b[0;34m,\u001b[0m \u001b[0mstatement\u001b[0m\u001b[0;34m,\u001b[0m \u001b[0mparameters\u001b[0m\u001b[0;34m,\u001b[0m \u001b[0mcontext\u001b[0m\u001b[0;34m=\u001b[0m\u001b[0;32mNone\u001b[0m\u001b[0;34m)\u001b[0m\u001b[0;34m:\u001b[0m\u001b[0;34m\u001b[0m\u001b[0;34m\u001b[0m\u001b[0m\n\u001b[0;32m--> 550\u001b[0;31m         \u001b[0mcursor\u001b[0m\u001b[0;34m.\u001b[0m\u001b[0mexecute\u001b[0m\u001b[0;34m(\u001b[0m\u001b[0mstatement\u001b[0m\u001b[0;34m,\u001b[0m \u001b[0mparameters\u001b[0m\u001b[0;34m)\u001b[0m\u001b[0;34m\u001b[0m\u001b[0;34m\u001b[0m\u001b[0m\n\u001b[0m\u001b[1;32m    551\u001b[0m \u001b[0;34m\u001b[0m\u001b[0m\n\u001b[1;32m    552\u001b[0m     \u001b[0;32mdef\u001b[0m \u001b[0mdo_execute_no_params\u001b[0m\u001b[0;34m(\u001b[0m\u001b[0mself\u001b[0m\u001b[0;34m,\u001b[0m \u001b[0mcursor\u001b[0m\u001b[0;34m,\u001b[0m \u001b[0mstatement\u001b[0m\u001b[0;34m,\u001b[0m \u001b[0mcontext\u001b[0m\u001b[0;34m=\u001b[0m\u001b[0;32mNone\u001b[0m\u001b[0;34m)\u001b[0m\u001b[0;34m:\u001b[0m\u001b[0;34m\u001b[0m\u001b[0;34m\u001b[0m\u001b[0m\n",
      "\u001b[0;32m~/anaconda3/lib/python3.7/encodings/utf_8.py\u001b[0m in \u001b[0;36mdecode\u001b[0;34m(input, errors)\u001b[0m\n\u001b[1;32m     13\u001b[0m \u001b[0mencode\u001b[0m \u001b[0;34m=\u001b[0m \u001b[0mcodecs\u001b[0m\u001b[0;34m.\u001b[0m\u001b[0mutf_8_encode\u001b[0m\u001b[0;34m\u001b[0m\u001b[0;34m\u001b[0m\u001b[0m\n\u001b[1;32m     14\u001b[0m \u001b[0;34m\u001b[0m\u001b[0m\n\u001b[0;32m---> 15\u001b[0;31m \u001b[0;32mdef\u001b[0m \u001b[0mdecode\u001b[0m\u001b[0;34m(\u001b[0m\u001b[0minput\u001b[0m\u001b[0;34m,\u001b[0m \u001b[0merrors\u001b[0m\u001b[0;34m=\u001b[0m\u001b[0;34m'strict'\u001b[0m\u001b[0;34m)\u001b[0m\u001b[0;34m:\u001b[0m\u001b[0;34m\u001b[0m\u001b[0;34m\u001b[0m\u001b[0m\n\u001b[0m\u001b[1;32m     16\u001b[0m     \u001b[0;32mreturn\u001b[0m \u001b[0mcodecs\u001b[0m\u001b[0;34m.\u001b[0m\u001b[0mutf_8_decode\u001b[0m\u001b[0;34m(\u001b[0m\u001b[0minput\u001b[0m\u001b[0;34m,\u001b[0m \u001b[0merrors\u001b[0m\u001b[0;34m,\u001b[0m \u001b[0;32mTrue\u001b[0m\u001b[0;34m)\u001b[0m\u001b[0;34m\u001b[0m\u001b[0;34m\u001b[0m\u001b[0m\n\u001b[1;32m     17\u001b[0m \u001b[0;34m\u001b[0m\u001b[0m\n",
      "\u001b[0;31mKeyboardInterrupt\u001b[0m: "
     ]
    }
   ],
   "source": [
    "stmt = '''\n",
    "SELECT COUNT(gas_station.id)\n",
    "FROM gas_station_information_history\n",
    "JOIN gas_station\n",
    "    ON gas_station.id = gas_station_information_history.stid\n",
    "WHERE (gas_station.place = 'Hilden' AND brand = 'ARAL') \n",
    "    AND gas_station_information_history.date > '2019-01-01 00:00:00+01'\n",
    "'''\n",
    "\n",
    "# Execute the statement (Result Proxy)\n",
    "results_proxy = connection.execute(stmt)\n",
    "\n",
    "# Fetch the results (Result Set)\n",
    "results = results_proxy.fetchall()\n",
    "\n",
    "# Create a DataFrame from the results\n",
    "df = pd.DataFrame(results)\n",
    "\n",
    "# Set column names\n",
    "df.columns = results[0].keys()\n",
    "\n",
    "# Print the head of the Dataframe\n",
    "df.head()"
   ]
  },
  {
   "cell_type": "code",
   "execution_count": null,
   "metadata": {},
   "outputs": [],
   "source": []
  },
  {
   "cell_type": "code",
   "execution_count": null,
   "metadata": {},
   "outputs": [],
   "source": [
    "connection.close()"
   ]
  }
 ],
 "metadata": {
  "kernelspec": {
   "display_name": "Python 3",
   "language": "python",
   "name": "python3"
  },
  "language_info": {
   "codemirror_mode": {
    "name": "ipython",
    "version": 3
   },
   "file_extension": ".py",
   "mimetype": "text/x-python",
   "name": "python",
   "nbconvert_exporter": "python",
   "pygments_lexer": "ipython3",
   "version": "3.7.3"
  }
 },
 "nbformat": 4,
 "nbformat_minor": 4
}
